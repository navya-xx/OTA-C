{
 "cells": [
  {
   "cell_type": "code",
   "execution_count": 1,
   "metadata": {},
   "outputs": [],
   "source": [
    "import numpy as np\n",
    "import struct"
   ]
  },
  {
   "cell_type": "code",
   "execution_count": 27,
   "metadata": {},
   "outputs": [],
   "source": [
    "# functions\n",
    "zfc_seq = lambda N, m : np.array([np.exp(-1j * np.pi * m * n * (n + 1) / N) for n in range(N)])\n",
    "zfc_seq_list = [zfc_seq(79, 7), zfc_seq(79, 41), zfc_seq(79, 71)]\n",
    "\n",
    "def parse_files(file_path):\n",
    "    sample_size = 8\n",
    "    with open(file_path, 'rb') as f:\n",
    "        # Read the binary data\n",
    "        binary_data = f.read()\n",
    "\n",
    "    num_samples = len(binary_data) // sample_size\n",
    "    samples = []\n",
    "    for i in range(num_samples):\n",
    "        # Extract real and imaginary parts from the binary data\n",
    "        real_part, imag_part = struct.unpack('ff', binary_data[i * sample_size: (i + 1) * sample_size])\n",
    "        # Create a complex number and append it to the list of samples\n",
    "        samples.append(complex(real_part, imag_part))\n",
    "\n",
    "    return np.array(samples)\n",
    "\n",
    "\n",
    "def corr_find_peaks(filename, samples):\n",
    "    peaks = np.zeros((3,), dtype=int)\n",
    "    for i in range(3):\n",
    "        corr_zfc = np.abs(np.correlate(samples, zfc_seq_list[i], mode='valid'))\n",
    "        peak = np.argmax(corr_zfc).item()\n",
    "        if corr_zfc[peak] < 0.1:\n",
    "            print(\"File %s does not have a valid peak.\" %filename)\n",
    "            peak = -1\n",
    "        peaks[i] = peak\n",
    "\n",
    "    return peaks\n"
   ]
  },
  {
   "cell_type": "code",
   "execution_count": 28,
   "metadata": {},
   "outputs": [],
   "source": [
    "sync_ids = np.zeros((100, 3), dtype=int)\n",
    "\n",
    "for i in range(100):\n",
    "    file_path = \"./storage/csd_T2_files_%d.dat\" %(i+1)\n",
    "\n",
    "    samples = parse_files(file_path)\n",
    "\n",
    "    # correlated\n",
    "    sync_ids[i, :] = corr_find_peaks(file_path, samples)\n",
    "\n",
    "    "
   ]
  },
  {
   "cell_type": "code",
   "execution_count": 42,
   "metadata": {},
   "outputs": [
    {
     "name": "stdout",
     "output_type": "stream",
     "text": [
      "[  9  24  84 166 190 192 193 194 195 205 206 208 210 211 212 213 214 215\n",
      " 217 218 220 221 222 223 225 230]\n",
      "[  1   1   1   1   2   2   1   4   3   1   4   2   8  11   2   8   5   1\n",
      "  49 169   1   3   4   7   2   7]\n",
      "83\n",
      "-3.5766666666666667\n",
      "12\n"
     ]
    }
   ],
   "source": [
    "tmp, counts = np.unique(sync_ids, return_counts=True)\n",
    "print(tmp)\n",
    "print(counts)\n",
    "sync_counts = np.count_nonzero(np.mean(np.abs(sync_ids - tmp[np.argmax(counts)]), axis=1) < 5)\n",
    "print(sync_counts)\n",
    "del_ids = np.argwhere(np.sum(sync_ids, axis=1) < 166).squeeze()\n",
    "np.delete(sync_ids, del_ids, axis=0)\n",
    "print(np.mean(sync_ids - 218))\n",
    "print(np.count_nonzero(np.sum(sync_ids == 218, axis=1) == 3))"
   ]
  },
  {
   "cell_type": "code",
   "execution_count": 45,
   "metadata": {},
   "outputs": [
    {
     "data": {
      "text/plain": [
       "Text(0.5, 1.0, 'Sync error histogram (Ref-Seq-len 79, avg-error 3.5 -> 100 runs)')"
      ]
     },
     "execution_count": 45,
     "metadata": {},
     "output_type": "execute_result"
    },
    {
     "data": {
      "image/png": "[encoded data removed]",
      "text/plain": [
       "<Figure size 640x480 with 1 Axes>"
      ]
     },
     "metadata": {},
     "output_type": "display_data"
    }
   ],
   "source": [
    "from matplotlib import pyplot as plt\n",
    "plt.bar(tmp[12:] - tmp[np.argmax(counts)].item(), counts[12:])\n",
    "plt.bar(0, np.max(counts) + 10, width=0.1, color=\"r\")\n",
    "plt.title(\"Sync error histogram 100 runs (Ref-Seq-len 79, avg-error 3.5)\")"
   ]
  },
  {
   "cell_type": "code",
   "execution_count": null,
   "metadata": {},
   "outputs": [],
   "source": []
  }
 ],
 "metadata": {
  "kernelspec": {
   "display_name": "Python 3",
   "language": "python",
   "name": "python3"
  },
  "language_info": {
   "codemirror_mode": {
    "name": "ipython",
    "version": 3
   },
   "file_extension": ".py",
   "mimetype": "text/x-python",
   "name": "python",
   "nbconvert_exporter": "python",
   "pygments_lexer": "ipython3",
   "version": "3.8.10"
  }
 },
 "nbformat": 4,
 "nbformat_minor": 2
}
