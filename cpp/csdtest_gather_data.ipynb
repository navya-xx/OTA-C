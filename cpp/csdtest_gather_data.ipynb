{
 "cells": [
  {
   "cell_type": "code",
   "execution_count": 1,
   "metadata": {},
   "outputs": [],
   "source": [
    "import numpy as np\n",
    "import struct"
   ]
  },
  {
   "cell_type": "code",
   "execution_count": 23,
   "metadata": {},
   "outputs": [],
   "source": [
    "# functions\n",
    "zfc_seq = lambda N, m : np.array([np.exp(-1j * np.pi * m * n * (n + 1) / N) for n in range(N)])\n",
    "N_zfc = 257\n",
    "zfc_seq_list = []\n",
    "num_devs = 6\n",
    "num_runs = 100\n",
    "m_zfc_list = [7, 41, 71, 101, 131, 173, 193, 211, 239]\n",
    "\n",
    "for i in range(num_devs):\n",
    "    zfc_seq_list.append(zfc_seq(N_zfc, m_zfc_list[i]))\n",
    "\n",
    "def parse_files(file_path):\n",
    "    sample_size = 8\n",
    "    with open(file_path, 'rb') as f:\n",
    "        # Read the binary data\n",
    "        binary_data = f.read()\n",
    "\n",
    "    num_samples = len(binary_data) // sample_size\n",
    "    samples = []\n",
    "    for i in range(num_samples):\n",
    "        # Extract real and imaginary parts from the binary data\n",
    "        real_part, imag_part = struct.unpack('ff', binary_data[i * sample_size: (i + 1) * sample_size])\n",
    "        # Create a complex number and append it to the list of samples\n",
    "        samples.append(complex(real_part, imag_part))\n",
    "\n",
    "    return np.array(samples)\n",
    "\n",
    "\n",
    "def corr_find_peaks(filename, samples):\n",
    "    peaks = np.zeros((num_devs,), dtype=int)\n",
    "    for i in range(num_devs):\n",
    "        corr_zfc = np.abs(np.correlate(samples, zfc_seq_list[i], mode='valid'))\n",
    "        peak = np.argmax(corr_zfc).item()\n",
    "        if corr_zfc[peak] < 5.0:\n",
    "            print(\"File %s does not have a valid peak.\" %filename)\n",
    "            peak = -1\n",
    "        peaks[i] = peak\n",
    "\n",
    "    return peaks\n"
   ]
  },
  {
   "cell_type": "code",
   "execution_count": 24,
   "metadata": {},
   "outputs": [],
   "source": [
    "sync_ids = np.zeros((num_runs, num_devs), dtype=int)\n",
    "\n",
    "for i in range(num_runs):\n",
    "    file_path = \"./storage/csd_F1_files_%d.dat\" %(i+1)\n",
    "\n",
    "    samples = parse_files(file_path)\n",
    "\n",
    "    # correlated\n",
    "    sync_ids[i, :] = corr_find_peaks(file_path, samples)\n",
    "\n",
    "    "
   ]
  },
  {
   "cell_type": "code",
   "execution_count": 25,
   "metadata": {},
   "outputs": [
    {
     "name": "stdout",
     "output_type": "stream",
     "text": [
      "[453 460 461 467 480 488 494 506 507 508 513 517 520 521 525 526 527 530\n",
      " 533 535 538 539 540 543 545 546 549 553 555 556 558 561 562 563 564 567\n",
      " 568 570 571 572 573 574 575 576 577 579 580 581 582 584 585 586 588 590\n",
      " 600 602 606 609 612 613 614 620 647 650 660 669 673 705]\n",
      "[  3   2   1   1   2   1   1   2   1   1   9   3   1   1   3   2   2   2\n",
      "   1   1   1   2   1   1   2  12   1   2   4   1   8   2   3   7   1   1\n",
      "   3   1   3   3 104 349  11   1   3   1   2   2   1   1   2   1   1   2\n",
      "   2   1   1   3   3   1   2   1   1   1   1   1   1   1]\n",
      "21\n",
      "[[573 573 574 574 573 574]\n",
      " [574 573 574 575 574 574]\n",
      " [573 573 574 573 573 574]\n",
      " [574 573 574 574 574 574]\n",
      " [574 575 574 574 574 574]\n",
      " [574 573 574 575 571 574]\n",
      " [574 572 574 574 574 574]\n",
      " [573 573 575 574 575 574]\n",
      " [573 574 574 574 574 574]\n",
      " [574 573 574 574 574 574]\n",
      " [573 573 574 574 574 573]\n",
      " [574 574 574 575 573 574]\n",
      " [574 573 574 574 573 574]\n",
      " [573 573 574 574 573 574]\n",
      " [574 576 574 574 574 574]\n",
      " [574 573 574 574 574 574]]\n",
      "-4.516666666666667\n",
      "0\n"
     ]
    }
   ],
   "source": [
    "tmp, counts = np.unique(sync_ids, return_counts=True)\n",
    "print(tmp)\n",
    "print(counts)\n",
    "max_min_diff = np.abs(sync_ids - np.max(sync_ids, axis=1, keepdims=True))\n",
    "sync_counts = np.count_nonzero(np.max(max_min_diff, axis=1) < 10)\n",
    "print(sync_counts)\n",
    "sync_ind = np.argwhere(np.max(max_min_diff, axis=1) < 5).squeeze()\n",
    "print(sync_ids[sync_ind, :])\n",
    "del_ids = np.argwhere(np.sum(sync_ids, axis=1) < tmp[np.argmin(counts)].item()).squeeze()\n",
    "np.delete(sync_ids, del_ids, axis=0)\n",
    "print(np.mean(sync_ids - tmp[np.argmax(counts)].item()))\n",
    "print(np.count_nonzero(np.sum(sync_ids == tmp[np.argmax(counts)].item(), axis=1) == num_devs))"
   ]
  },
  {
   "cell_type": "code",
   "execution_count": 9,
   "metadata": {},
   "outputs": [
    {
     "data": {
      "text/plain": [
       "Text(0.5, 1.0, 'Sync-hist 100 runs 6 devs (avg-error 4.5e-6 sec)')"
      ]
     },
     "execution_count": 9,
     "metadata": {},
     "output_type": "execute_result"
    },
    {
     "data": {
      "image/png": "[encoded data removed]",
      "text/plain": [
       "<Figure size 640x480 with 1 Axes>"
      ]
     },
     "metadata": {},
     "output_type": "display_data"
    }
   ],
   "source": [
    "from matplotlib import pyplot as plt\n",
    "plt.bar(tmp[:] - tmp[np.argmax(counts)].item(), counts[:])\n",
    "plt.bar(0, np.max(counts) + 10, width=0.1, color=\"r\")\n",
    "plt.title(\"Sync-hist 100 runs 6 devs (avg-error 4.5e-6 sec)\")"
   ]
  },
  {
   "cell_type": "code",
   "execution_count": null,
   "metadata": {},
   "outputs": [],
   "source": []
  }
 ],
 "metadata": {
  "kernelspec": {
   "display_name": "Python 3",
   "language": "python",
   "name": "python3"
  }
 },
 "nbformat": 4,
 "nbformat_minor": 2
}
